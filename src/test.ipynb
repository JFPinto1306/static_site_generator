{
 "cells": [
  {
   "cell_type": "code",
   "execution_count": 34,
   "id": "fd3920ca",
   "metadata": {},
   "outputs": [],
   "source": [
    "import os\n",
    "import shutil"
   ]
  },
  {
   "cell_type": "code",
   "execution_count": null,
   "id": "ef1a1af8",
   "metadata": {},
   "outputs": [],
   "source": [
    "def copy_to_public(dest = '../public',src = r'../static'):\n",
    "        # Removing any trees from inside the destination\n",
    "        if os.path.exists(dest):\n",
    "                shutil.rmtree(dest)\n",
    "        \n",
    "        os.mkdir(dest)\n",
    "                                \n",
    "                        \n",
    "        assert len(os.listdir(dest)) == 0, \"Destination directory is not empty\"\n",
    "        \n",
    "        for path in os.listdir(src):\n",
    "\n",
    "                src_path = os.path.join(src, path)\n",
    "                \n",
    "                if os.path.isfile(src_path):\n",
    "                        shutil.copy(src_path, dest)\n",
    "                        continue        \n",
    "                \n",
    "                copy_to_public(os.path.join(dest, path), src_path)\n",
    "                \n",
    "                        \n",
    "        \n",
    "        return "
   ]
  },
  {
   "cell_type": "code",
   "execution_count": 71,
   "id": "4eea592c",
   "metadata": {},
   "outputs": [
    {
     "data": {
      "text/plain": [
       "['images', 'index.css']"
      ]
     },
     "execution_count": 71,
     "metadata": {},
     "output_type": "execute_result"
    }
   ],
   "source": [
    "\n",
    "copy_to_public()"
   ]
  },
  {
   "cell_type": "code",
   "execution_count": null,
   "id": "e3670e4f",
   "metadata": {},
   "outputs": [],
   "source": []
  }
 ],
 "metadata": {
  "kernelspec": {
   "display_name": "base",
   "language": "python",
   "name": "python3"
  },
  "language_info": {
   "codemirror_mode": {
    "name": "ipython",
    "version": 3
   },
   "file_extension": ".py",
   "mimetype": "text/x-python",
   "name": "python",
   "nbconvert_exporter": "python",
   "pygments_lexer": "ipython3",
   "version": "3.8.5"
  }
 },
 "nbformat": 4,
 "nbformat_minor": 5
}
